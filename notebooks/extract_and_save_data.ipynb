{
 "cells": [
  {
   "cell_type": "markdown",
   "metadata": {},
   "source": [
    "***CONECTANDO AO MONGO DB***"
   ]
  },
  {
   "cell_type": "code",
   "execution_count": null,
   "metadata": {},
   "outputs": [
    {
     "name": "stdout",
     "output_type": "stream",
     "text": [
      "A conexão foi feita com sucesso!\n"
     ]
    }
   ],
   "source": [
    "from pymongo.mongo_client import MongoClient \n",
    "\n",
    "uri = \"mongodb://localhost:27017/\"\n",
    "\n",
    "client = MongoClient(uri)\n",
    "\n",
    "try:\n",
    "    client.admin.command('ping')\n",
    "    print(\"A conexão foi feita com sucesso!\")\n",
    "except Exception as e:\n",
    "    print(e)"
   ]
  },
  {
   "cell_type": "markdown",
   "metadata": {},
   "source": [
    "***CRIANDO BANCO E COLEÇÃO***"
   ]
  },
  {
   "cell_type": "markdown",
   "metadata": {},
   "source": []
  }
 ],
 "metadata": {
  "kernelspec": {
   "display_name": "base",
   "language": "python",
   "name": "python3"
  },
  "language_info": {
   "codemirror_mode": {
    "name": "ipython",
    "version": 3
   },
   "file_extension": ".py",
   "mimetype": "text/x-python",
   "name": "python",
   "nbconvert_exporter": "python",
   "pygments_lexer": "ipython3",
   "version": "3.12.9"
  }
 },
 "nbformat": 4,
 "nbformat_minor": 2
}
